{
 "cells": [
  {
   "cell_type": "code",
   "execution_count": 1,
   "id": "f39004fd-415c-41be-97e2-81a20d465ee8",
   "metadata": {},
   "outputs": [],
   "source": [
    "import pandas as pd\n"
   ]
  },
  {
   "cell_type": "code",
   "execution_count": 2,
   "id": "70793585-b5fe-44c6-8e44-df7a72e9c8dd",
   "metadata": {},
   "outputs": [],
   "source": [
    "data = pd.read_csv(\"Sala04.csv\")"
   ]
  },
  {
   "cell_type": "code",
   "execution_count": 3,
   "id": "4e25b470-cf4c-4222-954f-f7cccc7aa61e",
   "metadata": {},
   "outputs": [
    {
     "name": "stdout",
     "output_type": "stream",
     "text": [
      "Requirement already satisfied: pygwalker in c:\\entornovirtual\\entorno\\lib\\site-packages (0.4.8)\n",
      "Requirement already satisfied: appdirs in c:\\entornovirtual\\entorno\\lib\\site-packages (from pygwalker) (1.4.4)\n",
      "Requirement already satisfied: arrow in c:\\entornovirtual\\entorno\\lib\\site-packages (from pygwalker) (1.3.0)\n",
      "Requirement already satisfied: astor in c:\\entornovirtual\\entorno\\lib\\site-packages (from pygwalker) (0.8.1)\n",
      "Requirement already satisfied: cachetools in c:\\entornovirtual\\entorno\\lib\\site-packages (from pygwalker) (5.3.3)\n",
      "Requirement already satisfied: duckdb==0.10.1 in c:\\entornovirtual\\entorno\\lib\\site-packages (from pygwalker) (0.10.1)\n",
      "Requirement already satisfied: gw-dsl-parser==0.1.47 in c:\\entornovirtual\\entorno\\lib\\site-packages (from pygwalker) (0.1.47)\n",
      "Requirement already satisfied: ipython in c:\\entornovirtual\\entorno\\lib\\site-packages (from pygwalker) (8.23.0)\n",
      "Requirement already satisfied: ipywidgets in c:\\entornovirtual\\entorno\\lib\\site-packages (from pygwalker) (8.1.2)\n",
      "Requirement already satisfied: jinja2 in c:\\entornovirtual\\entorno\\lib\\site-packages (from pygwalker) (3.1.2)\n",
      "Requirement already satisfied: kanaries-track==0.0.4 in c:\\entornovirtual\\entorno\\lib\\site-packages (from pygwalker) (0.0.4)\n",
      "Requirement already satisfied: packaging in c:\\entornovirtual\\entorno\\lib\\site-packages (from pygwalker) (23.2)\n",
      "Requirement already satisfied: pandas in c:\\entornovirtual\\entorno\\lib\\site-packages (from pygwalker) (2.1.3)\n",
      "Requirement already satisfied: psutil in c:\\entornovirtual\\entorno\\lib\\site-packages (from pygwalker) (5.9.8)\n",
      "Requirement already satisfied: pyarrow in c:\\entornovirtual\\entorno\\lib\\site-packages (from pygwalker) (14.0.1)\n",
      "Requirement already satisfied: pydantic in c:\\entornovirtual\\entorno\\lib\\site-packages (from pygwalker) (2.4.2)\n",
      "Requirement already satisfied: pytz in c:\\entornovirtual\\entorno\\lib\\site-packages (from pygwalker) (2023.3.post1)\n",
      "Requirement already satisfied: requests in c:\\entornovirtual\\entorno\\lib\\site-packages (from pygwalker) (2.31.0)\n",
      "Requirement already satisfied: segment-analytics-python==2.2.3 in c:\\entornovirtual\\entorno\\lib\\site-packages (from pygwalker) (2.2.3)\n",
      "Requirement already satisfied: sqlalchemy in c:\\entornovirtual\\entorno\\lib\\site-packages (from pygwalker) (2.0.29)\n",
      "Requirement already satisfied: sqlglot>=19.0.0 in c:\\entornovirtual\\entorno\\lib\\site-packages (from pygwalker) (23.11.2)\n",
      "Requirement already satisfied: typing-extensions in c:\\entornovirtual\\entorno\\lib\\site-packages (from pygwalker) (4.8.0)\n",
      "Requirement already satisfied: wasmtime==12.0.0 in c:\\entornovirtual\\entorno\\lib\\site-packages (from gw-dsl-parser==0.1.47->pygwalker) (12.0.0)\n",
      "Requirement already satisfied: backoff>=2.2.1 in c:\\entornovirtual\\entorno\\lib\\site-packages (from kanaries-track==0.0.4->pygwalker) (2.2.1)\n",
      "Requirement already satisfied: dateutils>=0.6.12 in c:\\entornovirtual\\entorno\\lib\\site-packages (from kanaries-track==0.0.4->pygwalker) (0.6.12)\n",
      "Requirement already satisfied: monotonic~=1.5 in c:\\entornovirtual\\entorno\\lib\\site-packages (from segment-analytics-python==2.2.3->pygwalker) (1.6)\n",
      "Requirement already satisfied: python-dateutil~=2.2 in c:\\entornovirtual\\entorno\\lib\\site-packages (from segment-analytics-python==2.2.3->pygwalker) (2.8.2)\n",
      "Requirement already satisfied: charset-normalizer<4,>=2 in c:\\entornovirtual\\entorno\\lib\\site-packages (from requests->pygwalker) (3.3.2)\n",
      "Requirement already satisfied: idna<4,>=2.5 in c:\\entornovirtual\\entorno\\lib\\site-packages (from requests->pygwalker) (3.4)\n",
      "Requirement already satisfied: urllib3<3,>=1.21.1 in c:\\entornovirtual\\entorno\\lib\\site-packages (from requests->pygwalker) (2.0.7)\n",
      "Requirement already satisfied: certifi>=2017.4.17 in c:\\entornovirtual\\entorno\\lib\\site-packages (from requests->pygwalker) (2023.7.22)\n",
      "Requirement already satisfied: types-python-dateutil>=2.8.10 in c:\\entornovirtual\\entorno\\lib\\site-packages (from arrow->pygwalker) (2.9.0.20240316)\n",
      "Requirement already satisfied: decorator in c:\\entornovirtual\\entorno\\lib\\site-packages (from ipython->pygwalker) (5.1.1)\n",
      "Requirement already satisfied: jedi>=0.16 in c:\\entornovirtual\\entorno\\lib\\site-packages (from ipython->pygwalker) (0.19.1)\n",
      "Requirement already satisfied: matplotlib-inline in c:\\entornovirtual\\entorno\\lib\\site-packages (from ipython->pygwalker) (0.1.7)\n",
      "Requirement already satisfied: prompt-toolkit<3.1.0,>=3.0.41 in c:\\entornovirtual\\entorno\\lib\\site-packages (from ipython->pygwalker) (3.0.43)\n",
      "Requirement already satisfied: pygments>=2.4.0 in c:\\entornovirtual\\entorno\\lib\\site-packages (from ipython->pygwalker) (2.17.2)\n",
      "Requirement already satisfied: stack-data in c:\\entornovirtual\\entorno\\lib\\site-packages (from ipython->pygwalker) (0.6.3)\n",
      "Requirement already satisfied: traitlets>=5.13.0 in c:\\entornovirtual\\entorno\\lib\\site-packages (from ipython->pygwalker) (5.14.3)\n",
      "Requirement already satisfied: colorama in c:\\entornovirtual\\entorno\\lib\\site-packages (from ipython->pygwalker) (0.4.6)\n",
      "Requirement already satisfied: comm>=0.1.3 in c:\\entornovirtual\\entorno\\lib\\site-packages (from ipywidgets->pygwalker) (0.2.2)\n",
      "Requirement already satisfied: widgetsnbextension~=4.0.10 in c:\\entornovirtual\\entorno\\lib\\site-packages (from ipywidgets->pygwalker) (4.0.10)\n",
      "Requirement already satisfied: jupyterlab-widgets~=3.0.10 in c:\\entornovirtual\\entorno\\lib\\site-packages (from ipywidgets->pygwalker) (3.0.10)\n",
      "Requirement already satisfied: MarkupSafe>=2.0 in c:\\entornovirtual\\entorno\\lib\\site-packages (from jinja2->pygwalker) (2.1.3)\n",
      "Requirement already satisfied: numpy<2,>=1.23.2 in c:\\entornovirtual\\entorno\\lib\\site-packages (from pandas->pygwalker) (1.26.2)\n",
      "Requirement already satisfied: tzdata>=2022.1 in c:\\entornovirtual\\entorno\\lib\\site-packages (from pandas->pygwalker) (2023.3)\n",
      "Requirement already satisfied: annotated-types>=0.4.0 in c:\\entornovirtual\\entorno\\lib\\site-packages (from pydantic->pygwalker) (0.6.0)\n",
      "Requirement already satisfied: pydantic-core==2.10.1 in c:\\entornovirtual\\entorno\\lib\\site-packages (from pydantic->pygwalker) (2.10.1)\n",
      "Requirement already satisfied: greenlet!=0.4.17 in c:\\entornovirtual\\entorno\\lib\\site-packages (from sqlalchemy->pygwalker) (3.0.3)\n",
      "Requirement already satisfied: parso<0.9.0,>=0.8.3 in c:\\entornovirtual\\entorno\\lib\\site-packages (from jedi>=0.16->ipython->pygwalker) (0.8.4)\n",
      "Requirement already satisfied: wcwidth in c:\\entornovirtual\\entorno\\lib\\site-packages (from prompt-toolkit<3.1.0,>=3.0.41->ipython->pygwalker) (0.2.13)\n",
      "Requirement already satisfied: six>=1.5 in c:\\entornovirtual\\entorno\\lib\\site-packages (from python-dateutil~=2.2->segment-analytics-python==2.2.3->pygwalker) (1.16.0)\n",
      "Requirement already satisfied: executing>=1.2.0 in c:\\entornovirtual\\entorno\\lib\\site-packages (from stack-data->ipython->pygwalker) (2.0.1)\n",
      "Requirement already satisfied: asttokens>=2.1.0 in c:\\entornovirtual\\entorno\\lib\\site-packages (from stack-data->ipython->pygwalker) (2.4.1)\n",
      "Requirement already satisfied: pure-eval in c:\\entornovirtual\\entorno\\lib\\site-packages (from stack-data->ipython->pygwalker) (0.2.2)\n"
     ]
    }
   ],
   "source": [
    "!pip install pygwalker\n",
    "# si se sigue este proceso, deberá reiniciar el jupyter-lab"
   ]
  },
  {
   "cell_type": "code",
   "execution_count": 4,
   "id": "3e2e8f86-e809-4db7-a316-8ee11bbd26ad",
   "metadata": {},
   "outputs": [],
   "source": [
    "import pygwalker as pyg\n"
   ]
  },
  {
   "cell_type": "code",
   "execution_count": 5,
   "id": "8acd7560-231b-4818-8767-944fbc1c8022",
   "metadata": {},
   "outputs": [
    {
     "data": {
      "application/vnd.jupyter.widget-view+json": {
       "model_id": "12956a4d453c4c8cb070e3555d6092aa",
       "version_major": 2,
       "version_minor": 0
      },
      "text/plain": [
       "Box(children=(HTML(value='<div id=\"ifr-pyg-000616cdc2ef5892GEU7oYrPCMiR624J\" style=\"height: auto\">\\n    <head>…"
      ]
     },
     "metadata": {},
     "output_type": "display_data"
    },
    {
     "data": {
      "text/html": [],
      "text/plain": [
       "<IPython.core.display.HTML object>"
      ]
     },
     "metadata": {},
     "output_type": "display_data"
    },
    {
     "data": {
      "text/plain": [
       "<pygwalker.api.pygwalker.PygWalker at 0x184a7595090>"
      ]
     },
     "execution_count": 5,
     "metadata": {},
     "output_type": "execute_result"
    }
   ],
   "source": [
    "pyg.walk(data)\n"
   ]
  }
 ],
 "metadata": {
  "kernelspec": {
   "display_name": "Python 3 (ipykernel)",
   "language": "python",
   "name": "python3"
  },
  "language_info": {
   "codemirror_mode": {
    "name": "ipython",
    "version": 3
   },
   "file_extension": ".py",
   "mimetype": "text/x-python",
   "name": "python",
   "nbconvert_exporter": "python",
   "pygments_lexer": "ipython3",
   "version": "3.11.9"
  }
 },
 "nbformat": 4,
 "nbformat_minor": 5
}
