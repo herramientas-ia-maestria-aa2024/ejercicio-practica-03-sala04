{
 "cells": [
  {
   "cell_type": "code",
   "execution_count": 1,
   "id": "fa8e468e-450a-468a-942c-a8e5f679b301",
   "metadata": {},
   "outputs": [],
   "source": [
    "import pandas as pd\n"
   ]
  },
  {
   "cell_type": "code",
   "execution_count": 2,
   "id": "4a9653b8-c61a-41c7-8d34-eefec8939bd9",
   "metadata": {},
   "outputs": [
    {
     "name": "stdout",
     "output_type": "stream",
     "text": [
      "Requirement already satisfied: faker in c:\\entornovirtual\\entorno\\lib\\site-packages (24.11.0)\n",
      "Requirement already satisfied: python-dateutil>=2.4 in c:\\entornovirtual\\entorno\\lib\\site-packages (from faker) (2.8.2)\n",
      "Requirement already satisfied: six>=1.5 in c:\\entornovirtual\\entorno\\lib\\site-packages (from python-dateutil>=2.4->faker) (1.16.0)\n"
     ]
    }
   ],
   "source": [
    "!pip install faker\n"
   ]
  },
  {
   "cell_type": "code",
   "execution_count": 3,
   "id": "2fbfd312-64b9-4b16-86ad-df4b07e99570",
   "metadata": {},
   "outputs": [],
   "source": [
    "from faker import Faker\n",
    "fake = Faker()"
   ]
  },
  {
   "cell_type": "code",
   "execution_count": 4,
   "id": "8bb6391e-695c-4b24-be97-aebb99377aef",
   "metadata": {},
   "outputs": [],
   "source": [
    "names = []\n",
    "last_names = []\n",
    "emails = []\n",
    "addresses = []\n",
    "ages = []\n",
    "provinces = []"
   ]
  },
  {
   "cell_type": "code",
   "execution_count": 5,
   "id": "0c62ae08-7cde-48c9-ae81-79572b8c9368",
   "metadata": {},
   "outputs": [],
   "source": [
    "import random\n",
    "for x in range(0,10001):\n",
    "    names.append(fake.name())\n",
    "    last_names.append(fake.last_name())\n",
    "    emails.append(fake.email())\n",
    "    addresses.append(fake.address())\n",
    "    ages.append(random.randint(30, 40))\n",
    "    provinces.append(random.choice(['Loja', 'Pichincha', 'Guayas', 'Azuay', 'Manabí']))# Crear DataFrame con los datos"
   ]
  },
  {
   "cell_type": "code",
   "execution_count": 6,
   "id": "fc26a12d-84f8-4edd-abfb-aa2884bc697b",
   "metadata": {},
   "outputs": [],
   "source": [
    "# Crear DataFrame con los datos\n",
    "data = {\n",
    "    'Nombre': names,\n",
    "    'Apellido': last_names,\n",
    "    'Email': emails,\n",
    "    'Dirección': addresses,\n",
    "    'Edad': ages,\n",
    "    'Provincia': provinces\n",
    "}"
   ]
  },
  {
   "cell_type": "code",
   "execution_count": 7,
   "id": "ec8e4735-1d54-47cd-84fe-c433f130b80a",
   "metadata": {},
   "outputs": [],
   "source": [
    "df = pd.DataFrame(data)"
   ]
  },
  {
   "cell_type": "code",
   "execution_count": 8,
   "id": "a6c0f81d-6cef-445f-a231-4bfd6dc7c882",
   "metadata": {},
   "outputs": [],
   "source": [
    "df.to_csv('Sala04.csv', index=False)"
   ]
  }
 ],
 "metadata": {
  "kernelspec": {
   "display_name": "Python 3 (ipykernel)",
   "language": "python",
   "name": "python3"
  },
  "language_info": {
   "codemirror_mode": {
    "name": "ipython",
    "version": 3
   },
   "file_extension": ".py",
   "mimetype": "text/x-python",
   "name": "python",
   "nbconvert_exporter": "python",
   "pygments_lexer": "ipython3",
   "version": "3.11.9"
  }
 },
 "nbformat": 4,
 "nbformat_minor": 5
}
